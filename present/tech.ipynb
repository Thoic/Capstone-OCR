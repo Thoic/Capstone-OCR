{
 "cells": [
  {
   "cell_type": "markdown",
   "metadata": {},
   "source": [
    "# CS4273 Team 7 Technology Used\n",
    "Eric Chen  \n",
    "Kaden Cochran  \n",
    "Nick Thompson  \n",
    "\n",
    "## Communication\n",
    "- **GitHub**\n",
    "    - Host our project [repository](https://github.com/Thoic/Capstone-OCR)\n",
    "- **Discord**\n",
    "    - Conference for synchronous meetings and group work\n",
    "    - File sharing for project deliverables\n",
    "\n",
    "\n",
    "## Implementation\n",
    "- **Python**\n",
    "    - powerful 'proof-of-concept' language\n",
    "- **Google Cloud Vision API**\n",
    "    - Easily detect and classify multiple objects including the location of each object within an image via google's pre-trained machine learning agents\n",
    "- **Flask**\n",
    "    - Python Web Framework, perfect for small web applications\n",
    "- **Pillow**\n",
    "    - Python library used for loading, cropping, resizing, and rotating images\n",
    "\n",
    "## Deployment\n",
    "- **Google Cloud Platform**\n",
    "    - Used to serve our web application for demonstration"
   ]
  }
 ],
 "metadata": {
  "interpreter": {
   "hash": "6d97c42336b28aee05659d4cfc33057a676fef55266876b3bee9ada3e9d0701b"
  },
  "kernelspec": {
   "display_name": "Python 3.8.10 ('.venv': venv)",
   "language": "python",
   "name": "python3"
  },
  "language_info": {
   "name": "python",
   "version": "3.8.10"
  },
  "orig_nbformat": 4
 },
 "nbformat": 4,
 "nbformat_minor": 2
}
