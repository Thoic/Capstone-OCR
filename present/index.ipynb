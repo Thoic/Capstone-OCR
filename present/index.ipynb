{
 "cells": [
  {
   "cell_type": "markdown",
   "metadata": {},
   "source": [
    "# CS4273 Team 7 OCR Project\n",
    "Eric Chen  \n",
    "Kaden Cochran  \n",
    "Nick Thompson  \n",
    "\n",
    "## Introduction\n",
    "\n",
    "## Technolgy Used\n",
    "Can be found [here](/tech.html)\n"
   ]
  }
 ],
 "metadata": {
  "language_info": {
   "name": "python"
  },
  "orig_nbformat": 4
 },
 "nbformat": 4,
 "nbformat_minor": 2
}
